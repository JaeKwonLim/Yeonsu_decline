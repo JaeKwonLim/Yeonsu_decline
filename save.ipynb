{
  "nbformat": 4,
  "nbformat_minor": 0,
  "metadata": {
    "colab": {
      "provenance": [],
      "collapsed_sections": [],
      "authorship_tag": "ABX9TyNX/4X4rtE/uPI65ro0uIQi"
    },
    "kernelspec": {
      "name": "python3",
      "display_name": "Python 3"
    },
    "language_info": {
      "name": "python"
    }
  },
  "cells": [
    {
      "cell_type": "code",
      "execution_count": 1,
      "metadata": {
        "colab": {
          "base_uri": "https://localhost:8080/",
          "height": 396
        },
        "id": "kOw_m8DrVGxV",
        "outputId": "abbdd77c-6416-4c43-c649-3291b1fc2bd7"
      },
      "outputs": [
        {
          "output_type": "error",
          "ename": "ModuleNotFoundError",
          "evalue": "ignored",
          "traceback": [
            "\u001b[0;31m---------------------------------------------------------------------------\u001b[0m",
            "\u001b[0;31mModuleNotFoundError\u001b[0m                       Traceback (most recent call last)",
            "\u001b[0;32m<ipython-input-1-634a2510456c>\u001b[0m in \u001b[0;36m<module>\u001b[0;34m\u001b[0m\n\u001b[0;32m----> 1\u001b[0;31m \u001b[0;32mfrom\u001b[0m \u001b[0mgeoband\u001b[0m \u001b[0;32mimport\u001b[0m \u001b[0mAPI\u001b[0m\u001b[0;34m\u001b[0m\u001b[0;34m\u001b[0m\u001b[0m\n\u001b[0m\u001b[1;32m      2\u001b[0m \u001b[0;32mimport\u001b[0m \u001b[0mgeopandas\u001b[0m \u001b[0;32mas\u001b[0m \u001b[0mgpd\u001b[0m\u001b[0;34m\u001b[0m\u001b[0;34m\u001b[0m\u001b[0m\n\u001b[1;32m      3\u001b[0m \u001b[0;32mimport\u001b[0m \u001b[0mpandas\u001b[0m \u001b[0;32mas\u001b[0m \u001b[0mpd\u001b[0m\u001b[0;34m\u001b[0m\u001b[0;34m\u001b[0m\u001b[0m\n\u001b[1;32m      4\u001b[0m \u001b[0;32mimport\u001b[0m \u001b[0mdatetime\u001b[0m\u001b[0;34m\u001b[0m\u001b[0;34m\u001b[0m\u001b[0m\n\u001b[1;32m      5\u001b[0m \u001b[0;32mimport\u001b[0m \u001b[0mnumpy\u001b[0m \u001b[0;32mas\u001b[0m \u001b[0mnp\u001b[0m\u001b[0;34m\u001b[0m\u001b[0;34m\u001b[0m\u001b[0m\n",
            "\u001b[0;31mModuleNotFoundError\u001b[0m: No module named 'geoband'",
            "",
            "\u001b[0;31m---------------------------------------------------------------------------\u001b[0;32m\nNOTE: If your import is failing due to a missing package, you can\nmanually install dependencies using either !pip or !apt.\n\nTo view examples of installing some common dependencies, click the\n\"Open Examples\" button below.\n\u001b[0;31m---------------------------------------------------------------------------\u001b[0m\n"
          ],
          "errorDetails": {
            "actions": [
              {
                "action": "open_url",
                "actionText": "Open Examples",
                "url": "/notebooks/snippets/importing_libraries.ipynb"
              }
            ]
          }
        }
      ],
      "source": [
        "from geoband import API\n",
        "import geopandas as gpd\n",
        "import pandas as pd\n",
        "import datetime\n",
        "import numpy as np"
      ]
    },
    {
      "cell_type": "code",
      "source": [
        "# csv to local\n",
        "def csv_download_link(df, csv_file_name, delete_prompt=True):\n",
        "    \"\"\"Display a download link to load a data frame as csv from within a Jupyter notebook\"\"\"\n",
        "    df.to_csv(csv_file_name, index=False)\n",
        "    from IPython.display import FileLink\n",
        "    display(FileLink(csv_file_name))\n",
        "    if delete_prompt:\n",
        "        a = input('Press enter to delete the file after you have downloaded it.')\n",
        "        import os\n",
        "        os.remove(csv_file_name)"
      ],
      "metadata": {
        "id": "O2U28ajQVTiE"
      },
      "execution_count": null,
      "outputs": []
    },
    {
      "cell_type": "code",
      "source": [
        "# 파일 불러오기\n",
        "\n",
        "data_03 = pd.read_excel('3_연수구_거주인구_격자매핑.xlsx', sheet_name = None)\n",
        "\n",
        "data_05 = pd.read_excel('5_연수구_성연령별_주민등록인구.xlsx', sheet_name = None)\n",
        "\n",
        "data_08 = pd.read_excel('8_연수구_고충민원_격자매핑.xlsx', sheet_name = None)\n",
        "\n",
        "data_09 = pd.read_excel('9_연수구_민원현황_격자매핑.xlsx', sheet_name = None)\n",
        "data_10 = pd.read_excel('10_연수구_건축물대장_표제부.xlsx', sheet_name = None)\n",
        "\n",
        "\n",
        "data_13 = pd.read_csv('13_연수구_차량등록현황_격자매핑.csv')\n",
        "data_14 = pd.read_csv('14_연수구_112신고수_격자매핑.csv')\n",
        "\n",
        "\n",
        "data_17 = pd.read_excel('17_연수구_단독다가구_매매_실거래가.xlsx', sheet_name = None)\n",
        "\n",
        "\n",
        "\n",
        "data_21 = pd.read_excel('21_연수구_단독다가구_전월세_실거래가.xlsx', sheet_name = None)\n",
        "\n",
        "data_23 = pd.read_excel('23_연수구_상업업무용_매매_실거래가.xlsx', sheet_name = None)\n",
        "\n",
        "\n",
        "\n",
        "data_27 = pd.read_excel('27_연수구_교통사고_격자매핑.xlsx', sheet_name = None)\n",
        "data_28 = gpd.read_file('28_연수구_격자_100X100.geojson', sheet_name = None)"
      ],
      "metadata": {
        "colab": {
          "base_uri": "https://localhost:8080/",
          "height": 248
        },
        "id": "VCrIWSGCVUo0",
        "outputId": "8855e150-8743-489a-8e96-8524488357f6"
      },
      "execution_count": null,
      "outputs": [
        {
          "output_type": "error",
          "ename": "NameError",
          "evalue": "ignored",
          "traceback": [
            "\u001b[0;31m---------------------------------------------------------------------------\u001b[0m",
            "\u001b[0;31mNameError\u001b[0m                                 Traceback (most recent call last)",
            "\u001b[0;32m<ipython-input-2-e4273b6b7196>\u001b[0m in \u001b[0;36m<module>\u001b[0;34m\u001b[0m\n\u001b[1;32m      1\u001b[0m \u001b[0;31m# 파일 불러오기\u001b[0m\u001b[0;34m\u001b[0m\u001b[0;34m\u001b[0m\u001b[0;34m\u001b[0m\u001b[0m\n\u001b[1;32m      2\u001b[0m \u001b[0;34m\u001b[0m\u001b[0m\n\u001b[0;32m----> 3\u001b[0;31m \u001b[0mdata_03\u001b[0m \u001b[0;34m=\u001b[0m \u001b[0mpd\u001b[0m\u001b[0;34m.\u001b[0m\u001b[0mread_excel\u001b[0m\u001b[0;34m(\u001b[0m\u001b[0;34m'3_연수구_거주인구_격자매핑.xlsx'\u001b[0m\u001b[0;34m,\u001b[0m \u001b[0msheet_name\u001b[0m \u001b[0;34m=\u001b[0m \u001b[0;32mNone\u001b[0m\u001b[0;34m)\u001b[0m\u001b[0;34m\u001b[0m\u001b[0;34m\u001b[0m\u001b[0m\n\u001b[0m\u001b[1;32m      4\u001b[0m \u001b[0;34m\u001b[0m\u001b[0m\n\u001b[1;32m      5\u001b[0m \u001b[0mdata_05\u001b[0m \u001b[0;34m=\u001b[0m \u001b[0mpd\u001b[0m\u001b[0;34m.\u001b[0m\u001b[0mread_excel\u001b[0m\u001b[0;34m(\u001b[0m\u001b[0;34m'5_연수구_성연령별_주민등록인구.xlsx'\u001b[0m\u001b[0;34m,\u001b[0m \u001b[0msheet_name\u001b[0m \u001b[0;34m=\u001b[0m \u001b[0;32mNone\u001b[0m\u001b[0;34m)\u001b[0m\u001b[0;34m\u001b[0m\u001b[0;34m\u001b[0m\u001b[0m\n",
            "\u001b[0;31mNameError\u001b[0m: name 'pd' is not defined"
          ]
        }
      ]
    },
    {
      "cell_type": "code",
      "source": [
        "# 전입전출\n",
        "data_01 = pd.read_excel('1_연수구_전입현황.xlsx', sheet_name = None)\n",
        "data_02 = pd.read_excel('2_연수구_전출현황.xlsx', sheet_name = None)\n",
        "\n",
        "concatted_01 = pd.concat(data_01, ignore_index=True)\n",
        "concatted_01.columns = ['emd_nm', 'sd_nm', 'sgg_nm', 'base_date', 'come_count', 'come_family', 'come_pop']\n",
        "index_01 = concatted_01[concatted_01['sd_nm'] == '관내'].index\n",
        "concatted_01 = concatted_01.drop(index_01)\n",
        "concatted_01['where'] = concatted_01['sd_nm'] + \" \" + concatted_01['sgg_nm']\n",
        "concatted_01 = concatted_01.astype({'base_date' : 'str'})\n",
        "concatted_01['date'] = concatted_01['base_date'].str[:4]\n",
        "concatted_01 = concatted_01.astype({'date' : 'int'})\n",
        "concatted_01.drop(['sd_nm', 'sgg_nm', 'base_date'], axis=1, inplace=True)\n",
        "\n",
        "concatted_02 = pd.concat(data_02, ignore_index=True)\n",
        "concatted_02.columns = ['emd_nm', 'sd_nm', 'sgg_nm', 'base_date', 'out_count', 'out_family', 'out_pop']\n",
        "index_02 = concatted_02[concatted_02['sd_nm'] == '관내'].index\n",
        "concatted_02 = concatted_02.drop(index_02)\n",
        "concatted_02['where'] = concatted_02['sd_nm'] + \" \" + concatted_02['sgg_nm']\n",
        "concatted_02 = concatted_02.astype({'base_date' : 'str'})\n",
        "concatted_02['date'] = concatted_02['base_date'].str[:4]\n",
        "concatted_02 = concatted_02.astype({'date' : 'int'})\n",
        "concatted_02.drop(['sd_nm', 'sgg_nm', 'base_date'], axis=1, inplace=True)\n",
        "\n",
        "concatted_03 = pd.concat([concatted_01, concatted_02], ignore_index = True)\n",
        "\n",
        "def func(x):\n",
        "    a = {}\n",
        "    a['count'] = x['come_count'].sum() - x['out_count'].sum()\n",
        "    a['family'] = x['come_family'].sum() - x['out_family'].sum()\n",
        "    a['pop'] = x['come_pop'].sum() - x['out_pop'].sum()\n",
        "    \n",
        "\n",
        "    return pd.Series(a, index=['count', 'family', 'pop'])\n",
        "\n",
        "df = concatted_03.groupby(['date', 'emd_nm', 'where']).apply(func).reset_index()"
      ],
      "metadata": {
        "colab": {
          "base_uri": "https://localhost:8080/",
          "height": 248
        },
        "id": "9O3s2Ds3VWyJ",
        "outputId": "f681a9f0-7d61-412c-8a30-3ebd0f245586"
      },
      "execution_count": null,
      "outputs": [
        {
          "output_type": "error",
          "ename": "NameError",
          "evalue": "ignored",
          "traceback": [
            "\u001b[0;31m---------------------------------------------------------------------------\u001b[0m",
            "\u001b[0;31mNameError\u001b[0m                                 Traceback (most recent call last)",
            "\u001b[0;32m<ipython-input-3-e01961e0905d>\u001b[0m in \u001b[0;36m<module>\u001b[0;34m\u001b[0m\n\u001b[1;32m      1\u001b[0m \u001b[0;31m# 전입전출\u001b[0m\u001b[0;34m\u001b[0m\u001b[0;34m\u001b[0m\u001b[0;34m\u001b[0m\u001b[0m\n\u001b[0;32m----> 2\u001b[0;31m \u001b[0mdata_01\u001b[0m \u001b[0;34m=\u001b[0m \u001b[0mpd\u001b[0m\u001b[0;34m.\u001b[0m\u001b[0mread_excel\u001b[0m\u001b[0;34m(\u001b[0m\u001b[0;34m'1_연수구_전입현황.xlsx'\u001b[0m\u001b[0;34m,\u001b[0m \u001b[0msheet_name\u001b[0m \u001b[0;34m=\u001b[0m \u001b[0;32mNone\u001b[0m\u001b[0;34m)\u001b[0m\u001b[0;34m\u001b[0m\u001b[0;34m\u001b[0m\u001b[0m\n\u001b[0m\u001b[1;32m      3\u001b[0m \u001b[0mdata_02\u001b[0m \u001b[0;34m=\u001b[0m \u001b[0mpd\u001b[0m\u001b[0;34m.\u001b[0m\u001b[0mread_excel\u001b[0m\u001b[0;34m(\u001b[0m\u001b[0;34m'2_연수구_전출현황.xlsx'\u001b[0m\u001b[0;34m,\u001b[0m \u001b[0msheet_name\u001b[0m \u001b[0;34m=\u001b[0m \u001b[0;32mNone\u001b[0m\u001b[0;34m)\u001b[0m\u001b[0;34m\u001b[0m\u001b[0;34m\u001b[0m\u001b[0m\n\u001b[1;32m      4\u001b[0m \u001b[0;34m\u001b[0m\u001b[0m\n\u001b[1;32m      5\u001b[0m \u001b[0mconcatted_01\u001b[0m \u001b[0;34m=\u001b[0m \u001b[0mpd\u001b[0m\u001b[0;34m.\u001b[0m\u001b[0mconcat\u001b[0m\u001b[0;34m(\u001b[0m\u001b[0mdata_01\u001b[0m\u001b[0;34m,\u001b[0m \u001b[0mignore_index\u001b[0m\u001b[0;34m=\u001b[0m\u001b[0;32mTrue\u001b[0m\u001b[0;34m)\u001b[0m\u001b[0;34m\u001b[0m\u001b[0;34m\u001b[0m\u001b[0m\n",
            "\u001b[0;31mNameError\u001b[0m: name 'pd' is not defined"
          ]
        }
      ]
    },
    {
      "cell_type": "code",
      "source": [
        "# 취약계층(독거노인, 수급자) 현황\n",
        "\n",
        "data_04 = pd.read_csv('4_연수구_독거노인.csv',)\n",
        "data_07 = pd.read_excel('7_연수구_기초생활수급대상자.xlsx', sheet_name = None)\n",
        "\n",
        "data_04 = data_04.astype({'base_date' : 'str'})\n",
        "data_04['date'] = data_04['base_date'].str[:4]\n",
        "data_04 = data_04.astype({'date' : 'int'})\n",
        "data_04.drop(['base_date'], axis=1, inplace=True)\n",
        "data_04.columns = ['emd_nm', 'loneliness', 'M_loneliness', 'W_loneliness', 'date']\n",
        "\n",
        "concatted_07 = pd.concat(data_07)\n",
        "concatted_07.reset_index(inplace = True)\n",
        "concatted_07['date'] = concatted_07['level_0'].str[:4]\n",
        "concatted_07.drop(['level_0', 'level_1'], axis=1, inplace=True)\n",
        "index_07 = concatted_07[concatted_07['emd_nm'] == '합 계'].index\n",
        "concatted_07 = concatted_07.drop(index_07)\n",
        "concatted_07.columns = ['emd_nm', 'basic_pop', 'date']\n",
        "concatted_07 = concatted_07.astype({'date' : 'int'})\n",
        "\n",
        "concatted_04 = pd.concat([data_04, concatted_07], ignore_index = True)\n",
        "\n",
        "def func(x):\n",
        "    b = {}\n",
        "    b['loneliness'] = x['loneliness'].sum()\n",
        "    b['M_loneliness'] = x['M_loneliness'].sum()\n",
        "    b['W_loneliness'] = x['W_loneliness'].sum()\n",
        "    b['basic_pop'] = x['basic_pop'].sum()\n",
        "    return pd.Series(b, index=['loneliness', 'M_loneliness', 'W_loneliness', 'basic_pop'])\n",
        "\n",
        "df = concatted_04.groupby(['date', 'emd_nm']).apply(func).reset_index()"
      ],
      "metadata": {
        "colab": {
          "base_uri": "https://localhost:8080/",
          "height": 248
        },
        "id": "V1vEedlZVXwf",
        "outputId": "0b3d71d4-e32a-4645-c525-3f17aa19e22c"
      },
      "execution_count": null,
      "outputs": [
        {
          "output_type": "error",
          "ename": "NameError",
          "evalue": "ignored",
          "traceback": [
            "\u001b[0;31m---------------------------------------------------------------------------\u001b[0m",
            "\u001b[0;31mNameError\u001b[0m                                 Traceback (most recent call last)",
            "\u001b[0;32m<ipython-input-4-91f36124e1fb>\u001b[0m in \u001b[0;36m<module>\u001b[0;34m\u001b[0m\n\u001b[1;32m      1\u001b[0m \u001b[0;31m# 취약계층(독거노인, 수급자) 현황\u001b[0m\u001b[0;34m\u001b[0m\u001b[0;34m\u001b[0m\u001b[0;34m\u001b[0m\u001b[0m\n\u001b[1;32m      2\u001b[0m \u001b[0;34m\u001b[0m\u001b[0m\n\u001b[0;32m----> 3\u001b[0;31m \u001b[0mdata_04\u001b[0m \u001b[0;34m=\u001b[0m \u001b[0mpd\u001b[0m\u001b[0;34m.\u001b[0m\u001b[0mread_csv\u001b[0m\u001b[0;34m(\u001b[0m\u001b[0;34m'4_연수구_독거노인.csv'\u001b[0m\u001b[0;34m,\u001b[0m\u001b[0;34m)\u001b[0m\u001b[0;34m\u001b[0m\u001b[0;34m\u001b[0m\u001b[0m\n\u001b[0m\u001b[1;32m      4\u001b[0m \u001b[0mdata_07\u001b[0m \u001b[0;34m=\u001b[0m \u001b[0mpd\u001b[0m\u001b[0;34m.\u001b[0m\u001b[0mread_excel\u001b[0m\u001b[0;34m(\u001b[0m\u001b[0;34m'7_연수구_기초생활수급대상자.xlsx'\u001b[0m\u001b[0;34m,\u001b[0m \u001b[0msheet_name\u001b[0m \u001b[0;34m=\u001b[0m \u001b[0;32mNone\u001b[0m\u001b[0;34m)\u001b[0m\u001b[0;34m\u001b[0m\u001b[0;34m\u001b[0m\u001b[0m\n\u001b[1;32m      5\u001b[0m \u001b[0;34m\u001b[0m\u001b[0m\n",
            "\u001b[0;31mNameError\u001b[0m: name 'pd' is not defined"
          ]
        }
      ]
    },
    {
      "cell_type": "code",
      "source": [
        "# 매매 동향 분석\n",
        "\n",
        "data_15 = pd.read_excel('15_연수구_아파트_매매_실거래가.xlsx', sheet_name = None)\n",
        "data_16 = pd.read_excel('16_연수구_연립다세대_매매_실거래가.xlsx', sheet_name = None)\n",
        "data_18 = pd.read_excel('18_연수구_오피스텔_매매_실거래가.xlsx', sheet_name = None)\n",
        "\n",
        "concatted_15 = pd.concat(data_15)\n",
        "concatted_15.reset_index(inplace = True)\n",
        "concatted_16 = pd.concat(data_16)\n",
        "concatted_16.reset_index(inplace = True)\n",
        "concatted_18 = pd.concat(data_18)\n",
        "concatted_18.reset_index(inplace = True)\n",
        "\n",
        "# -----------------------------------------------------------------------------------\n",
        "\n",
        "name_split = concatted_15['bjd_nm'].str.split(\" \")\n",
        "\n",
        "concatted_15 = concatted_15.astype({'cntrc_ym' : 'str'})\n",
        "concatted_15['contrc_date'] = concatted_15['cntrc_ym'].str[:4]\n",
        "concatted_15 = concatted_15.astype({'contrc_date' : 'int'})\n",
        "concatted_15['emd_nm'] = name_split.str.get(2)\n",
        "concatted_15.drop(['level_0','level_1','bunji', 'road_nm', 'cmplx_nm', 'cntrc_day', 'floor', 'cntrc_ym', 'bjd_nm'], axis=1, inplace=True)\n",
        "\n",
        "# 60㎡ 이하는 소형, 60㎡ ~ 85㎡ 이하는 중소형, 85㎡ ~ 135㎡ 이하는 중대형, 135㎡ 초과는 대형 - 국토해양부\n",
        "condition = [\n",
        "    (concatted_15['exclusive_area'] > 135),\n",
        "    (concatted_15['exclusive_area'] >= 85),\n",
        "    (concatted_15['exclusive_area'] > 60),\n",
        "    (concatted_15['exclusive_area'] <= 60)]\n",
        "choicelist = ['L', 'ML', 'MS', 'S']\n",
        "concatted_15['size'] = np.select(condition, choicelist, default='Not Specified')\n",
        "\n",
        "# 이상치 제거\n",
        "index_15a = concatted_15[concatted_15['trade_price'] == '00,000'].index\n",
        "index_15b = concatted_15[concatted_15['trade_price'] == '00,500'].index\n",
        "concatted_15 = concatted_15.drop(index_15a)\n",
        "concatted_15 = concatted_15.drop(index_15b)\n",
        "concatted_15 = concatted_15.astype({'trade_price' : 'int'})\n",
        "\n",
        "\n",
        "def func(x):\n",
        "    b = {}\n",
        "    b['exclusive_area'] = x['exclusive_area'].mean()\n",
        "    b['trade_price'] = x['trade_price'].mean()\n",
        "    b['cnstr_year'] = x['cnstr_year'].mean()\n",
        "    return pd.Series(b, index=['exclusive_area', 'trade_price', 'cnstr_year'])\n",
        "\n",
        "df_15 = concatted_15.groupby(['contrc_date', 'emd_nm', 'size']).apply(func).reset_index()\n",
        "\n",
        "# -----------------------------------------------------------------------------------\n",
        "\n",
        "name_split = concatted_16['bjd_nm'].str.split(\" \")\n",
        "\n",
        "concatted_16 = concatted_16.astype({'cntrc_ym' : 'str'})\n",
        "concatted_16['contrc_date'] = concatted_16['cntrc_ym'].str[:4]\n",
        "concatted_16 = concatted_16.astype({'contrc_date' : 'int'})\n",
        "concatted_16['emd_nm'] = name_split.str.get(2)\n",
        "concatted_16.drop(['level_0','level_1','bunji', 'road_nm', 'bld_nm', 'land_area', 'cntrc_day', 'floor', 'cntrc_ym', 'bjd_nm'], axis=1, inplace=True)\n",
        "\n",
        "# 60㎡ 이하는 소형, 60㎡ ~ 85㎡ 이하는 중소형, 85㎡ ~ 135㎡ 이하는 중대형, 135㎡ 초과는 대형 - 국토해양부\n",
        "condition = [\n",
        "    (concatted_16['exclusive_area'] > 135),\n",
        "    (concatted_16['exclusive_area'] >= 85),\n",
        "    (concatted_16['exclusive_area'] > 60),\n",
        "    (concatted_16['exclusive_area'] <= 60)]\n",
        "choicelist = ['L', 'ML', 'MS', 'S']\n",
        "concatted_16['size'] = np.select(condition, choicelist, default='Not Specified')\n",
        "\n",
        "concatted_16 = concatted_16.astype({'trade_price' : 'int'})\n",
        "\n",
        "\n",
        "def func(x):\n",
        "    b = {}\n",
        "    b['exclusive_area'] = x['exclusive_area'].mean()\n",
        "    b['trade_price'] = x['trade_price'].mean()\n",
        "    b['cnstr_year'] = x['cnstr_year'].mean()\n",
        "    return pd.Series(b, index=['exclusive_area', 'trade_price', 'cnstr_year'])\n",
        "\n",
        "df_16 = concatted_16.groupby(['contrc_date', 'emd_nm', 'size']).apply(func).reset_index()\n",
        "\n",
        "# -----------------------------------------------------------------------------------\n",
        "\n",
        "name_split = concatted_18['bjd_nm'].str.split(\" \")\n",
        "\n",
        "concatted_18 = concatted_18.astype({'cntrc_ym' : 'str'})\n",
        "concatted_18['contrc_date'] = concatted_18['cntrc_ym'].str[:4]\n",
        "concatted_18 = concatted_18.astype({'contrc_date' : 'int'})\n",
        "concatted_18['emd_nm'] = name_split.str.get(2)\n",
        "concatted_18.drop(['level_0','level_1','bunji', 'road_nm', 'cmplx_nm', 'cntrc_day', 'floor', 'cntrc_ym', 'bjd_nm'], axis=1, inplace=True)\n",
        "\n",
        "# 60㎡ 이하는 소형, 60㎡ ~ 85㎡ 이하는 중소형, 85㎡ ~ 135㎡ 이하는 중대형, 135㎡ 초과는 대형 - 국토해양부\n",
        "condition = [\n",
        "    (concatted_18['exclusive_area'] > 135),\n",
        "    (concatted_18['exclusive_area'] >= 85),\n",
        "    (concatted_18['exclusive_area'] > 60),\n",
        "    (concatted_18['exclusive_area'] <= 60)]\n",
        "choicelist = ['L', 'ML', 'MS', 'S']\n",
        "concatted_18['size'] = np.select(condition, choicelist, default='Not Specified')\n",
        "\n",
        "concatted_18 = concatted_18.astype({'trade_price' : 'int'})\n",
        "\n",
        "\n",
        "def func(x):\n",
        "    b = {}\n",
        "    b['exclusive_area'] = x['exclusive_area'].mean()\n",
        "    b['trade_price'] = x['trade_price'].mean()\n",
        "    b['cnstr_year'] = x['cnstr_year'].mean()\n",
        "    return pd.Series(b, index=['exclusive_area', 'trade_price', 'cnstr_year'])\n",
        "\n",
        "df_18 = concatted_18.groupby(['contrc_date', 'emd_nm', 'size']).apply(func).reset_index()"
      ],
      "metadata": {
        "colab": {
          "base_uri": "https://localhost:8080/",
          "height": 248
        },
        "id": "VERBo5bBVZKC",
        "outputId": "b2f799dc-0248-4428-fd0c-e88bf65ffe68"
      },
      "execution_count": null,
      "outputs": [
        {
          "output_type": "error",
          "ename": "NameError",
          "evalue": "ignored",
          "traceback": [
            "\u001b[0;31m---------------------------------------------------------------------------\u001b[0m",
            "\u001b[0;31mNameError\u001b[0m                                 Traceback (most recent call last)",
            "\u001b[0;32m<ipython-input-5-6ed87bdb7930>\u001b[0m in \u001b[0;36m<module>\u001b[0;34m\u001b[0m\n\u001b[1;32m      1\u001b[0m \u001b[0;31m# 매매 동향 분석\u001b[0m\u001b[0;34m\u001b[0m\u001b[0;34m\u001b[0m\u001b[0;34m\u001b[0m\u001b[0m\n\u001b[1;32m      2\u001b[0m \u001b[0;34m\u001b[0m\u001b[0m\n\u001b[0;32m----> 3\u001b[0;31m \u001b[0mdata_15\u001b[0m \u001b[0;34m=\u001b[0m \u001b[0mpd\u001b[0m\u001b[0;34m.\u001b[0m\u001b[0mread_excel\u001b[0m\u001b[0;34m(\u001b[0m\u001b[0;34m'15_연수구_아파트_매매_실거래가.xlsx'\u001b[0m\u001b[0;34m,\u001b[0m \u001b[0msheet_name\u001b[0m \u001b[0;34m=\u001b[0m \u001b[0;32mNone\u001b[0m\u001b[0;34m)\u001b[0m\u001b[0;34m\u001b[0m\u001b[0;34m\u001b[0m\u001b[0m\n\u001b[0m\u001b[1;32m      4\u001b[0m \u001b[0mdata_16\u001b[0m \u001b[0;34m=\u001b[0m \u001b[0mpd\u001b[0m\u001b[0;34m.\u001b[0m\u001b[0mread_excel\u001b[0m\u001b[0;34m(\u001b[0m\u001b[0;34m'16_연수구_연립다세대_매매_실거래가.xlsx'\u001b[0m\u001b[0;34m,\u001b[0m \u001b[0msheet_name\u001b[0m \u001b[0;34m=\u001b[0m \u001b[0;32mNone\u001b[0m\u001b[0;34m)\u001b[0m\u001b[0;34m\u001b[0m\u001b[0;34m\u001b[0m\u001b[0m\n\u001b[1;32m      5\u001b[0m \u001b[0mdata_18\u001b[0m \u001b[0;34m=\u001b[0m \u001b[0mpd\u001b[0m\u001b[0;34m.\u001b[0m\u001b[0mread_excel\u001b[0m\u001b[0;34m(\u001b[0m\u001b[0;34m'18_연수구_오피스텔_매매_실거래가.xlsx'\u001b[0m\u001b[0;34m,\u001b[0m \u001b[0msheet_name\u001b[0m \u001b[0;34m=\u001b[0m \u001b[0;32mNone\u001b[0m\u001b[0;34m)\u001b[0m\u001b[0;34m\u001b[0m\u001b[0;34m\u001b[0m\u001b[0m\n",
            "\u001b[0;31mNameError\u001b[0m: name 'pd' is not defined"
          ]
        }
      ]
    },
    {
      "cell_type": "code",
      "source": [
        "# 전월세 동향 분석\n",
        "\n",
        "data_19 = pd.read_excel('19_연수구_아파트_전월세_실거래가.xlsx', sheet_name = None)\n",
        "data_20 = pd.read_excel('20_연수구_연립다세대_전월세_실거래가.xlsx', sheet_name = None)\n",
        "data_21 = pd.read_excel('21_연수구_단독다가구_전월세_실거래가.xlsx', sheet_name = None)\n",
        "data_22 = pd.read_excel('22_연수구_오피스텔_전월세_실거래가.xlsx', sheet_name = None)\n",
        "\n",
        "# -----------------------------------------------------------------------------------\n",
        "\n",
        "concatted_19 = pd.concat(data_19)\n",
        "concatted_19.reset_index(inplace = True)\n",
        "concatted_20 = pd.concat(data_20)\n",
        "concatted_20.reset_index(inplace = True)\n",
        "concatted_22 = pd.concat(data_22)\n",
        "concatted_22.reset_index(inplace = True)\n",
        "\n",
        "# -----------------------------------------------------------------------------------\n",
        "\n",
        "name_split = concatted_19['bjd_nm'].str.split(\" \")\n",
        "\n",
        "concatted_19 = concatted_19.astype({'cntrc_ym' : 'str'})\n",
        "concatted_19['contrc_date'] = concatted_19['cntrc_ym'].str[:4]\n",
        "concatted_19 = concatted_19.astype({'contrc_date' : 'int'})\n",
        "concatted_19['emd_nm'] = name_split.str.get(2)\n",
        "concatted_19.drop(['level_0','level_1','bunji', 'road_nm', 'cmplx_nm', 'cntrc_day', 'floor', 'cntrc_ym', 'bjd_nm'], axis=1, inplace=True)\n",
        "\n",
        "# 60㎡ 이하는 소형, 60㎡ ~ 85㎡ 이하는 중소형, 85㎡ ~ 135㎡ 이하는 중대형, 135㎡ 초과는 대형 - 국토해양부\n",
        "condition = [\n",
        "    (concatted_19['exclusive_area'] > 135),\n",
        "    (concatted_19['exclusive_area'] >= 85),\n",
        "    (concatted_19['exclusive_area'] > 60),\n",
        "    (concatted_19['exclusive_area'] <= 60)]\n",
        "choicelist = ['L', 'ML', 'MS', 'S']\n",
        "concatted_19['size'] = np.select(condition, choicelist, default='Not Specified')\n",
        "\n",
        "def func(x):\n",
        "    b = {}\n",
        "    b['deposit'] = x['deposit'].mean()\n",
        "    b['m_rent'] = x['m_rent'].mean()\n",
        "    b['cnstr_year'] = x['cnstr_year'].mean()\n",
        "    b['exclusive_area'] = x['exclusive_area'].mean()\n",
        "    return pd.Series(b, index=['exclusive_area', 'deposit', 'm_rent', 'cnstr_year'])\n",
        "\n",
        "df_19 = concatted_19.groupby(['contrc_date', 'emd_nm','rent_type', 'size']).apply(func).reset_index()\n",
        "\n",
        "# -----------------------------------------------------------------------------------\n",
        "\n",
        "name_split = concatted_20['bjd_nm'].str.split(\" \")\n",
        "\n",
        "concatted_20 = concatted_20.astype({'cntrc_ym' : 'str'})\n",
        "concatted_20['contrc_date'] = concatted_20['cntrc_ym'].str[:4]\n",
        "concatted_20 = concatted_20.astype({'contrc_date' : 'int'})\n",
        "concatted_20['emd_nm'] = name_split.str.get(2)\n",
        "concatted_20.drop(['level_0','level_1','bunji', 'road_nm', 'bld_nm', 'cntrc_day', 'floor', 'cntrc_ym'], axis=1, inplace=True)\n",
        "\n",
        "# 60㎡ 이하는 소형, 60㎡ ~ 85㎡ 이하는 중소형, 85㎡ ~ 135㎡ 이하는 중대형, 135㎡ 초과는 대형 - 국토해양부\n",
        "condition = [\n",
        "    (concatted_20['exclusive_area'] > 135),\n",
        "    (concatted_20['exclusive_area'] >= 85),\n",
        "    (concatted_20['exclusive_area'] > 60),\n",
        "    (concatted_20['exclusive_area'] <= 60)]\n",
        "choicelist = ['L', 'ML', 'MS', 'S']\n",
        "concatted_20['size'] = np.select(condition, choicelist, default='Not Specified')\n",
        "\n",
        "def func(x):\n",
        "    b = {}\n",
        "    b['deposit'] = x['deposit'].mean()\n",
        "    b['m_rent'] = x['m_rent'].mean()\n",
        "    b['cnstr_year'] = x['cnstr_year'].mean()\n",
        "    b['exclusive_area'] = x['exclusive_area'].mean()\n",
        "    return pd.Series(b, index=['exclusive_area', 'deposit', 'm_rent', 'cnstr_year'])\n",
        "\n",
        "df_20 = concatted_20.groupby(['contrc_date', 'emd_nm','rent_type', 'size']).apply(func).reset_index()\n",
        "\n",
        "# -----------------------------------------------------------------------------------\n",
        "\n",
        "name_split = concatted_22['bjd_nm'].str.split(\" \")\n",
        "\n",
        "concatted_22 = concatted_22.astype({'cntrc_ym' : 'str'})\n",
        "concatted_22['contrc_date'] = concatted_22['cntrc_ym'].str[:4]\n",
        "concatted_22 = concatted_22.astype({'contrc_date' : 'int'})\n",
        "concatted_22['emd_nm'] = name_split.str.get(2)\n",
        "concatted_22.drop(['level_0','level_1','bunji', 'road_nm', 'cmplx_nm', 'cntrc_day', 'floor', 'cntrc_ym'], axis=1, inplace=True)\n",
        "\n",
        "# 60㎡ 이하는 소형, 60㎡ ~ 85㎡ 이하는 중소형, 85㎡ ~ 135㎡ 이하는 중대형, 135㎡ 초과는 대형 - 국토해양부\n",
        "condition = [\n",
        "    (concatted_22['exclusive_area'] > 135),\n",
        "    (concatted_22['exclusive_area'] >= 85),\n",
        "    (concatted_22['exclusive_area'] > 60),\n",
        "    (concatted_22['exclusive_area'] <= 60)]\n",
        "choicelist = ['L', 'ML', 'MS', 'S']\n",
        "concatted_22['size'] = np.select(condition, choicelist, default='Not Specified')\n",
        "\n",
        "def func(x):\n",
        "    b = {}\n",
        "    b['deposit'] = x['deposit'].mean()\n",
        "    b['m_rent'] = x['m_rent'].mean()\n",
        "    b['cnstr_year'] = x['cnstr_year'].mean()\n",
        "    b['exclusive_area'] = x['exclusive_area'].mean()\n",
        "    return pd.Series(b, index=['exclusive_area', 'deposit', 'm_rent', 'cnstr_year'])\n",
        "\n",
        "df_22 = concatted_22.groupby(['contrc_date', 'emd_nm','rent_type', 'size']).apply(func).reset_index()"
      ],
      "metadata": {
        "colab": {
          "base_uri": "https://localhost:8080/",
          "height": 248
        },
        "id": "uNMvVwEwVacj",
        "outputId": "c8ef903f-2a99-46f7-918c-8ce157af5ed0"
      },
      "execution_count": null,
      "outputs": [
        {
          "output_type": "error",
          "ename": "NameError",
          "evalue": "ignored",
          "traceback": [
            "\u001b[0;31m---------------------------------------------------------------------------\u001b[0m",
            "\u001b[0;31mNameError\u001b[0m                                 Traceback (most recent call last)",
            "\u001b[0;32m<ipython-input-6-3777818ae06f>\u001b[0m in \u001b[0;36m<module>\u001b[0;34m\u001b[0m\n\u001b[1;32m      1\u001b[0m \u001b[0;31m# 전월세 동향 분석\u001b[0m\u001b[0;34m\u001b[0m\u001b[0;34m\u001b[0m\u001b[0;34m\u001b[0m\u001b[0m\n\u001b[1;32m      2\u001b[0m \u001b[0;34m\u001b[0m\u001b[0m\n\u001b[0;32m----> 3\u001b[0;31m \u001b[0mdata_19\u001b[0m \u001b[0;34m=\u001b[0m \u001b[0mpd\u001b[0m\u001b[0;34m.\u001b[0m\u001b[0mread_excel\u001b[0m\u001b[0;34m(\u001b[0m\u001b[0;34m'19_연수구_아파트_전월세_실거래가.xlsx'\u001b[0m\u001b[0;34m,\u001b[0m \u001b[0msheet_name\u001b[0m \u001b[0;34m=\u001b[0m \u001b[0;32mNone\u001b[0m\u001b[0;34m)\u001b[0m\u001b[0;34m\u001b[0m\u001b[0;34m\u001b[0m\u001b[0m\n\u001b[0m\u001b[1;32m      4\u001b[0m \u001b[0mdata_20\u001b[0m \u001b[0;34m=\u001b[0m \u001b[0mpd\u001b[0m\u001b[0;34m.\u001b[0m\u001b[0mread_excel\u001b[0m\u001b[0;34m(\u001b[0m\u001b[0;34m'20_연수구_연립다세대_전월세_실거래가.xlsx'\u001b[0m\u001b[0;34m,\u001b[0m \u001b[0msheet_name\u001b[0m \u001b[0;34m=\u001b[0m \u001b[0;32mNone\u001b[0m\u001b[0;34m)\u001b[0m\u001b[0;34m\u001b[0m\u001b[0;34m\u001b[0m\u001b[0m\n\u001b[1;32m      5\u001b[0m \u001b[0mdata_21\u001b[0m \u001b[0;34m=\u001b[0m \u001b[0mpd\u001b[0m\u001b[0;34m.\u001b[0m\u001b[0mread_excel\u001b[0m\u001b[0;34m(\u001b[0m\u001b[0;34m'21_연수구_단독다가구_전월세_실거래가.xlsx'\u001b[0m\u001b[0;34m,\u001b[0m \u001b[0msheet_name\u001b[0m \u001b[0;34m=\u001b[0m \u001b[0;32mNone\u001b[0m\u001b[0;34m)\u001b[0m\u001b[0;34m\u001b[0m\u001b[0;34m\u001b[0m\u001b[0m\n",
            "\u001b[0;31mNameError\u001b[0m: name 'pd' is not defined"
          ]
        }
      ]
    },
    {
      "cell_type": "code",
      "source": [
        "#기타 가격\n",
        "\n",
        "# data_23 = pd.read_excel('23_연수구_상업업무용_매매_실거래가.xlsx', sheet_name = None)\n",
        "data_24 = pd.read_excel('24_연수구_토지_실거래가.xlsx', sheet_name = None)\n",
        "data_25 = pd.read_excel('25_연수구_분양입주권_실거래가.xlsx', sheet_name = None)\n",
        "data_26 = pd.read_excel('26_연수구_개별공시지가.xlsx', sheet_name = None)\n",
        "\n",
        "concatted_24 = pd.concat(data_24)\n",
        "concatted_24.reset_index(inplace = True)\n",
        "concatted_25 = pd.concat(data_25)\n",
        "concatted_25.reset_index(inplace = True)\n",
        "concatted_26 = pd.concat(data_26)\n",
        "concatted_26.reset_index(inplace = True)\n",
        "\n",
        "# -----------------------------------------------------------------------------------\n",
        "\n",
        "index_24 = concatted_24[concatted_24['use_area'] == '보전녹지지역'].index\n",
        "concatted_24 = concatted_24.drop(index_24)\n",
        "index_24 = concatted_24[concatted_24['use_area'] == '개발제한구역'].index\n",
        "concatted_24 = concatted_24.drop(index_24)\n",
        "index_24 = concatted_24[concatted_24['use_area'] == '자연녹지지역'].index\n",
        "concatted_24 = concatted_24.drop(index_24)\n",
        "index_24 = concatted_24[concatted_24['road_cndtn'] == '-'].index\n",
        "concatted_24 = concatted_24.drop(index_24)\n",
        "\n",
        "\n",
        "name_split = concatted_24['bjd_nm'].str.split(\" \")\n",
        "\n",
        "concatted_24 = concatted_24.astype({'cntrc_ym' : 'str'})\n",
        "concatted_24['contrc_date'] = concatted_24['cntrc_ym'].str[:4]\n",
        "concatted_24 = concatted_24.astype({'contrc_date' : 'int'})\n",
        "concatted_24['emd_nm'] = name_split.str.get(2)\n",
        "concatted_24.drop(['level_0','level_1','bjd_nm', 'bunji', 'road_cndtn', 'cntrc_ym', 'cntrc_day', 'share_type'], axis=1, inplace=True)\n",
        "\n",
        "def func(x):\n",
        "    b = {}\n",
        "    b['cntrc_area'] = x['cntrc_area'].mean()\n",
        "    b['trade_price'] = x['trade_price'].mean()\n",
        "    return pd.Series(b, index=['cntrc_area', 'trade_price'])\n",
        "\n",
        "df_24 = concatted_24.groupby(['contrc_date', 'emd_nm','use_area']).apply(func).reset_index()\n",
        "\n",
        "# -----------------------------------------------------------------------------------\n",
        "\n",
        "name_split = concatted_25['bjd_nm'].str.split(\" \")\n",
        "\n",
        "concatted_25 = concatted_25.astype({'cntrc_ym' : 'str'})\n",
        "concatted_25['contrc_date'] = concatted_25['cntrc_ym'].str[:4]\n",
        "concatted_25 = concatted_25.astype({'contrc_date' : 'int'})\n",
        "concatted_25['emd_nm'] = name_split.str.get(2)\n",
        "concatted_25.drop(['level_0','level_1','cmplx_nm', 'bunji', 'cntrc_ym', 'cntrc_day', 'floor'], axis=1, inplace=True)\n",
        "\n",
        "def func(x):\n",
        "    b = {}\n",
        "    b['exclusive_area'] = x['exclusive_area'].mean()\n",
        "    b['trade_price'] = x['trade_price'].mean()\n",
        "    return pd.Series(b, index=['exclusive_area', 'trade_price'])\n",
        "\n",
        "df_25 = concatted_25.groupby(['contrc_date', 'emd_nm','right_type']).apply(func).reset_index()\n",
        "\n",
        "# -----------------------------------------------------------------------------------\n",
        "\n",
        "name_split = concatted_26['bjd_nm'].str.split(\" \")\n",
        "\n",
        "index_26 = concatted_26[concatted_26['s_land_nm'] == '산'].index\n",
        "concatted_26 = concatted_26.drop(index_26)\n",
        "\n",
        "concatted_26['emd_nm'] = name_split.str.get(2)\n",
        "concatted_26.drop(['level_0','level_1','bjd_cd','bjd_nm', 'unique_no', 'unique_no', 's_land_cd', 'jibun', 'month','office_date'], axis=1, inplace=True)\n",
        "\n",
        "def func(x):\n",
        "    b = {}\n",
        "    b['land_value'] = x['land_value'].mean()\n",
        "    return pd.Series(b, index=['land_value'])\n",
        "\n",
        "df_26 = concatted_26.groupby(['year', 'emd_nm']).apply(func).reset_index()"
      ],
      "metadata": {
        "colab": {
          "base_uri": "https://localhost:8080/",
          "height": 248
        },
        "id": "PC6Lr3pcVbvC",
        "outputId": "340bd93f-eafa-4917-a5ed-0486af1cd15e"
      },
      "execution_count": null,
      "outputs": [
        {
          "output_type": "error",
          "ename": "NameError",
          "evalue": "ignored",
          "traceback": [
            "\u001b[0;31m---------------------------------------------------------------------------\u001b[0m",
            "\u001b[0;31mNameError\u001b[0m                                 Traceback (most recent call last)",
            "\u001b[0;32m<ipython-input-7-d394775dc3d6>\u001b[0m in \u001b[0;36m<module>\u001b[0;34m\u001b[0m\n\u001b[1;32m      2\u001b[0m \u001b[0;34m\u001b[0m\u001b[0m\n\u001b[1;32m      3\u001b[0m \u001b[0;31m# data_23 = pd.read_excel('23_연수구_상업업무용_매매_실거래가.xlsx', sheet_name = None)\u001b[0m\u001b[0;34m\u001b[0m\u001b[0;34m\u001b[0m\u001b[0;34m\u001b[0m\u001b[0m\n\u001b[0;32m----> 4\u001b[0;31m \u001b[0mdata_24\u001b[0m \u001b[0;34m=\u001b[0m \u001b[0mpd\u001b[0m\u001b[0;34m.\u001b[0m\u001b[0mread_excel\u001b[0m\u001b[0;34m(\u001b[0m\u001b[0;34m'24_연수구_토지_실거래가.xlsx'\u001b[0m\u001b[0;34m,\u001b[0m \u001b[0msheet_name\u001b[0m \u001b[0;34m=\u001b[0m \u001b[0;32mNone\u001b[0m\u001b[0;34m)\u001b[0m\u001b[0;34m\u001b[0m\u001b[0;34m\u001b[0m\u001b[0m\n\u001b[0m\u001b[1;32m      5\u001b[0m \u001b[0mdata_25\u001b[0m \u001b[0;34m=\u001b[0m \u001b[0mpd\u001b[0m\u001b[0;34m.\u001b[0m\u001b[0mread_excel\u001b[0m\u001b[0;34m(\u001b[0m\u001b[0;34m'25_연수구_분양입주권_실거래가.xlsx'\u001b[0m\u001b[0;34m,\u001b[0m \u001b[0msheet_name\u001b[0m \u001b[0;34m=\u001b[0m \u001b[0;32mNone\u001b[0m\u001b[0;34m)\u001b[0m\u001b[0;34m\u001b[0m\u001b[0;34m\u001b[0m\u001b[0m\n\u001b[1;32m      6\u001b[0m \u001b[0mdata_26\u001b[0m \u001b[0;34m=\u001b[0m \u001b[0mpd\u001b[0m\u001b[0;34m.\u001b[0m\u001b[0mread_excel\u001b[0m\u001b[0;34m(\u001b[0m\u001b[0;34m'26_연수구_개별공시지가.xlsx'\u001b[0m\u001b[0;34m,\u001b[0m \u001b[0msheet_name\u001b[0m \u001b[0;34m=\u001b[0m \u001b[0;32mNone\u001b[0m\u001b[0;34m)\u001b[0m\u001b[0;34m\u001b[0m\u001b[0;34m\u001b[0m\u001b[0m\n",
            "\u001b[0;31mNameError\u001b[0m: name 'pd' is not defined"
          ]
        }
      ]
    },
    {
      "cell_type": "code",
      "source": [
        "# 상권\n",
        "\n",
        "data_11 = pd.read_csv('11_연수구_상권정보.csv')\n",
        "\n",
        "data_11['business_type'].dropna(inplace = True)\n",
        "data_11.dropna(subset = ['close_date'], inplace = True)\n",
        "\n",
        "name_split = data_11['location_address'].str.split(\" \")\n",
        "\n",
        "data_11 = data_11.astype({'license_date' : 'str'})\n",
        "data_11['license_date'] = data_11['license_date'].str[:4]\n",
        "data_11 = data_11.astype({'license_date' : 'int'})\n",
        "data_11 = data_11.astype({'close_date' : 'str'})\n",
        "data_11['close_date'] = data_11['close_date'].str[:4]\n",
        "data_11 = data_11.astype({'close_date' : 'int'})\n",
        "\n",
        "data_11['emd_nm'] = name_split.str.get(2)\n",
        "data_11.drop(['business_type','open_type', 'road_address','location_address', 'store_nm'], axis=1, inplace=True)\n",
        "\n",
        "# -----------------------------------------------------------------------------------\n",
        "\n"
      ],
      "metadata": {
        "colab": {
          "base_uri": "https://localhost:8080/",
          "height": 248
        },
        "id": "579oohaeVc5k",
        "outputId": "e95c40ef-fdf0-43ba-80a7-c53378a5d9cc"
      },
      "execution_count": null,
      "outputs": [
        {
          "output_type": "error",
          "ename": "NameError",
          "evalue": "ignored",
          "traceback": [
            "\u001b[0;31m---------------------------------------------------------------------------\u001b[0m",
            "\u001b[0;31mNameError\u001b[0m                                 Traceback (most recent call last)",
            "\u001b[0;32m<ipython-input-8-f797fa81a5a2>\u001b[0m in \u001b[0;36m<module>\u001b[0;34m\u001b[0m\n\u001b[1;32m      1\u001b[0m \u001b[0;31m# 상권\u001b[0m\u001b[0;34m\u001b[0m\u001b[0;34m\u001b[0m\u001b[0;34m\u001b[0m\u001b[0m\n\u001b[1;32m      2\u001b[0m \u001b[0;34m\u001b[0m\u001b[0m\n\u001b[0;32m----> 3\u001b[0;31m \u001b[0mdata_11\u001b[0m \u001b[0;34m=\u001b[0m \u001b[0mpd\u001b[0m\u001b[0;34m.\u001b[0m\u001b[0mread_csv\u001b[0m\u001b[0;34m(\u001b[0m\u001b[0;34m'11_연수구_상권정보.csv'\u001b[0m\u001b[0;34m)\u001b[0m\u001b[0;34m\u001b[0m\u001b[0;34m\u001b[0m\u001b[0m\n\u001b[0m\u001b[1;32m      4\u001b[0m \u001b[0;34m\u001b[0m\u001b[0m\n\u001b[1;32m      5\u001b[0m \u001b[0mdata_11\u001b[0m\u001b[0;34m[\u001b[0m\u001b[0;34m'business_type'\u001b[0m\u001b[0;34m]\u001b[0m\u001b[0;34m.\u001b[0m\u001b[0mdropna\u001b[0m\u001b[0;34m(\u001b[0m\u001b[0minplace\u001b[0m \u001b[0;34m=\u001b[0m \u001b[0;32mTrue\u001b[0m\u001b[0;34m)\u001b[0m\u001b[0;34m\u001b[0m\u001b[0;34m\u001b[0m\u001b[0m\n",
            "\u001b[0;31mNameError\u001b[0m: name 'pd' is not defined"
          ]
        }
      ]
    },
    {
      "cell_type": "code",
      "source": [
        "data_12 = pd.read_excel('12_연수구_학교현황.xlsx', sheet_name = None)\n",
        "data_12 = pd.concat(data_12)\n",
        "data_12.reset_index(inplace = True)"
      ],
      "metadata": {
        "colab": {
          "base_uri": "https://localhost:8080/",
          "height": 211
        },
        "id": "2sBmfhU2VeEm",
        "outputId": "593fc466-203c-4e84-985d-172a6341e0bd"
      },
      "execution_count": null,
      "outputs": [
        {
          "output_type": "error",
          "ename": "NameError",
          "evalue": "ignored",
          "traceback": [
            "\u001b[0;31m---------------------------------------------------------------------------\u001b[0m",
            "\u001b[0;31mNameError\u001b[0m                                 Traceback (most recent call last)",
            "\u001b[0;32m<ipython-input-9-06f97bfe3cdd>\u001b[0m in \u001b[0;36m<module>\u001b[0;34m\u001b[0m\n\u001b[0;32m----> 1\u001b[0;31m \u001b[0mdata_12\u001b[0m \u001b[0;34m=\u001b[0m \u001b[0mpd\u001b[0m\u001b[0;34m.\u001b[0m\u001b[0mread_excel\u001b[0m\u001b[0;34m(\u001b[0m\u001b[0;34m'12_연수구_학교현황.xlsx'\u001b[0m\u001b[0;34m,\u001b[0m \u001b[0msheet_name\u001b[0m \u001b[0;34m=\u001b[0m \u001b[0;32mNone\u001b[0m\u001b[0;34m)\u001b[0m\u001b[0;34m\u001b[0m\u001b[0;34m\u001b[0m\u001b[0m\n\u001b[0m\u001b[1;32m      2\u001b[0m \u001b[0mdata_12\u001b[0m \u001b[0;34m=\u001b[0m \u001b[0mpd\u001b[0m\u001b[0;34m.\u001b[0m\u001b[0mconcat\u001b[0m\u001b[0;34m(\u001b[0m\u001b[0mdata_12\u001b[0m\u001b[0;34m)\u001b[0m\u001b[0;34m\u001b[0m\u001b[0;34m\u001b[0m\u001b[0m\n\u001b[1;32m      3\u001b[0m \u001b[0mdata_12\u001b[0m\u001b[0;34m.\u001b[0m\u001b[0mreset_index\u001b[0m\u001b[0;34m(\u001b[0m\u001b[0minplace\u001b[0m \u001b[0;34m=\u001b[0m \u001b[0;32mTrue\u001b[0m\u001b[0;34m)\u001b[0m\u001b[0;34m\u001b[0m\u001b[0;34m\u001b[0m\u001b[0m\n",
            "\u001b[0;31mNameError\u001b[0m: name 'pd' is not defined"
          ]
        }
      ]
    }
  ]
}